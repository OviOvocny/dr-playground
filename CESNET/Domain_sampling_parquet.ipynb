{
 "cells": [
  {
   "cell_type": "code",
   "execution_count": 5,
   "metadata": {},
   "outputs": [
    {
     "name": "stdout",
     "output_type": "stream",
     "text": [
      "Number of rows:  529384\n",
      "10 first rows:  [\n",
      "  [\n",
      "    \"000000.pn01.edugroup.at\",\n",
      "    \"000000.tpn01.edugroup.at\",\n",
      "    \"00000.cz\",\n",
      "    \"0:0:0:0:0:FFFF:B76E:5A27\",\n",
      "    \"00000fs3085d.han2.savba.sk\",\n",
      "    \"0000100b00e9.han2.savba.sk\",\n",
      "    \"0000100b01bd.han2.savba.sk\",\n",
      "    \"0000100m0030.han2.savba.sk\",\n",
      "    \"0000100q012c.han2.savba.sk\",\n",
      "    \"0000100q0296.han2.savba.sk\"\n",
      "  ]\n",
      "]\n"
     ]
    }
   ],
   "source": [
    "import pyarrow.parquet as pq\n",
    "import re\n",
    "\n",
    "\n",
    "parquet_file = pq.read_table('CESNET_domains.parquet')\n",
    "\n",
    "#print number of rows\n",
    "print(\"Number of rows: \", parquet_file.num_rows)\n",
    "\n",
    "#save it to txt \n",
    "with open('CESNET_domains.txt', 'w') as f:\n",
    "    for i in range(0,parquet_file.num_rows):\n",
    "        #print(parquet_file.column(0)[i])\n",
    "        f.write(str(parquet_file.column(0)[i]))\n",
    "        f.write(\"\\n\")\n",
    "\n",
    "#print 10 first rows\n",
    "print(\"10 first rows: \", parquet_file.column(0)[0:10])\n"
   ]
  }
 ],
 "metadata": {
  "kernelspec": {
   "display_name": "Python 3",
   "language": "python",
   "name": "python3"
  },
  "language_info": {
   "codemirror_mode": {
    "name": "ipython",
    "version": 3
   },
   "file_extension": ".py",
   "mimetype": "text/x-python",
   "name": "python",
   "nbconvert_exporter": "python",
   "pygments_lexer": "ipython3",
   "version": "3.11.5"
  }
 },
 "nbformat": 4,
 "nbformat_minor": 2
}
