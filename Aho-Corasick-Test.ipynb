{
 "cells": [
  {
   "cell_type": "markdown",
   "metadata": {},
   "source": [
    "# New extraction"
   ]
  },
  {
   "cell_type": "code",
   "execution_count": 1,
   "metadata": {},
   "outputs": [
    {
     "data": {
      "text/plain": [
       "109.918619"
      ]
     },
     "execution_count": 1,
     "metadata": {},
     "output_type": "execute_result"
    }
   ],
   "source": [
    "from transformers import lexical\n",
    "import datetime\n",
    "import pandas as pd\n",
    "\n",
    "new_dga = pd.read_parquet(\"floor/01-DGA.parquet\")\n",
    "new_benign = pd.read_parquet(\"floor/Benign.parquet\")\n",
    "\n",
    "# Measure the prediction time\n",
    "start_time = datetime.datetime.now()\n",
    "new_dga = lexical.lex(new_dga)\n",
    "new_benign = lexical.lex(new_benign)\n",
    "end_time = datetime.datetime.now()\n",
    "time_taken = (end_time - start_time).total_seconds()\n",
    "\n",
    "time_taken"
   ]
  },
  {
   "cell_type": "markdown",
   "metadata": {},
   "source": [
    "# Old extraction"
   ]
  },
  {
   "cell_type": "code",
   "execution_count": 2,
   "metadata": {},
   "outputs": [
    {
     "data": {
      "text/plain": [
       "1635.991758"
      ]
     },
     "execution_count": 2,
     "metadata": {},
     "output_type": "execute_result"
    }
   ],
   "source": [
    "from transformers import lexical_old\n",
    "\n",
    "old_dga = pd.read_parquet(\"floor/01-DGA.parquet\")\n",
    "old_benign = pd.read_parquet(\"floor/Benign.parquet\")\n",
    "\n",
    "# Measure the prediction time\n",
    "start_time = datetime.datetime.now()\n",
    "old_dga = lexical_old.lex(old_dga)\n",
    "old_benign = lexical_old.lex(old_benign)\n",
    "end_time = datetime.datetime.now()\n",
    "time_taken = (end_time - start_time).total_seconds()\n",
    "\n",
    "time_taken"
   ]
  },
  {
   "cell_type": "markdown",
   "metadata": {},
   "source": [
    "# Comparison"
   ]
  },
  {
   "cell_type": "code",
   "execution_count": 3,
   "metadata": {},
   "outputs": [
    {
     "name": "stdout",
     "output_type": "stream",
     "text": [
      "Both dataframes are equal: True\n"
     ]
    }
   ],
   "source": [
    "pd.set_option(\"display.max_columns\", 80)\n",
    "\n",
    "print(\n",
    "    \"Both dataframes are equal:\",\n",
    "    old_dga.equals(new_dga) and old_benign.equals(new_benign),\n",
    ")"
   ]
  }
 ],
 "metadata": {
  "kernelspec": {
   "display_name": "base",
   "language": "python",
   "name": "python3"
  },
  "language_info": {
   "codemirror_mode": {
    "name": "ipython",
    "version": 3
   },
   "file_extension": ".py",
   "mimetype": "text/x-python",
   "name": "python",
   "nbconvert_exporter": "python",
   "pygments_lexer": "ipython3",
   "version": "3.11.7"
  }
 },
 "nbformat": 4,
 "nbformat_minor": 2
}
